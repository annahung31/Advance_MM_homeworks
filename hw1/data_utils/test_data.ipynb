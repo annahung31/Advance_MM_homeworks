{
 "cells": [
  {
   "cell_type": "code",
   "execution_count": 10,
   "metadata": {},
   "outputs": [],
   "source": [
    "import os\n",
    "import glob\n",
    "import pandas as pd"
   ]
  },
  {
   "cell_type": "code",
   "execution_count": 11,
   "metadata": {},
   "outputs": [],
   "source": [
    "with open('../test/closed_set/labels.txt', 'r') as f:\n",
    "    labels = f.readlines()"
   ]
  },
  {
   "cell_type": "code",
   "execution_count": 12,
   "metadata": {},
   "outputs": [],
   "source": [
    "labels = [x.rstrip() for x in labels]"
   ]
  },
  {
   "cell_type": "code",
   "execution_count": 13,
   "metadata": {},
   "outputs": [
    {
     "data": {
      "text/plain": [
       "'0'"
      ]
     },
     "execution_count": 13,
     "metadata": {},
     "output_type": "execute_result"
    }
   ],
   "source": [
    "labels[147]"
   ]
  },
  {
   "cell_type": "code",
   "execution_count": 14,
   "metadata": {},
   "outputs": [],
   "source": [
    "img_data_root = '../test/closed_set/test_pairs/test_pairs'"
   ]
  },
  {
   "cell_type": "raw",
   "metadata": {},
   "source": [
    "def read_template_pair_list(path):\n",
    "    # pairs = np.loadtxt(path, dtype=str)\n",
    "    pairs = pd.read_csv(path, sep=' ', header=None).values\n",
    "    # print(pairs.shape)\n",
    "    # print(pairs[:, 0].astype(np.int))\n",
    "    t1 = pairs[:, 0].astype(np.int)\n",
    "    t2 = pairs[:, 1].astype(np.int)\n",
    "    label = pairs[:, 2].astype(np.int)\n",
    "    return t1, t2, label\n"
   ]
  },
  {
   "cell_type": "code",
   "execution_count": 15,
   "metadata": {},
   "outputs": [],
   "source": [
    "img1 = []\n",
    "img2 = []\n",
    "label = []\n",
    "fname_prefix = '../../../data/test/closed_set/test_pairs/test_pairs'\n",
    "for i in range(1000):\n",
    "    f1 = fname_prefix + str(i) + '_' + str(0) + '.jpg'\n",
    "    f2 = fname_prefix + str(i) + '_' + str(1) + '.jpg'\n",
    "    img1.append(f1)\n",
    "    img2.append(f2)"
   ]
  },
  {
   "cell_type": "code",
   "execution_count": 16,
   "metadata": {},
   "outputs": [
    {
     "data": {
      "text/plain": [
       "'../../../data/test/closed_set/test_pairs/test_pairs10_0.jpg'"
      ]
     },
     "execution_count": 16,
     "metadata": {},
     "output_type": "execute_result"
    }
   ],
   "source": [
    "img1[10]"
   ]
  },
  {
   "cell_type": "code",
   "execution_count": 17,
   "metadata": {},
   "outputs": [
    {
     "data": {
      "text/plain": [
       "'../../../data/test/closed_set/test_pairs/test_pairs10_1.jpg'"
      ]
     },
     "execution_count": 17,
     "metadata": {},
     "output_type": "execute_result"
    }
   ],
   "source": [
    "img2[10]"
   ]
  },
  {
   "cell_type": "code",
   "execution_count": 18,
   "metadata": {},
   "outputs": [],
   "source": [
    "data_df = pd.DataFrame({'f1': img1, 'f2': img2, 'label': labels})"
   ]
  },
  {
   "cell_type": "code",
   "execution_count": 19,
   "metadata": {},
   "outputs": [],
   "source": [
    "data_df.to_csv('test_pair.csv')"
   ]
  },
  {
   "cell_type": "code",
   "execution_count": null,
   "metadata": {},
   "outputs": [],
   "source": []
  },
  {
   "cell_type": "code",
   "execution_count": 30,
   "metadata": {},
   "outputs": [],
   "source": [
    "## prepare for test_anna\n",
    "datas = []\n",
    "fname_prefix = 'test_pair_'\n",
    "for i in range(1000):\n",
    "    f1 = fname_prefix + str(i) + '_' + str(1) + '.jpg'\n",
    "    f2 = fname_prefix + str(i) + '_' + str(2) + '.jpg'\n",
    "    label = labels[i]\n",
    "    datas.append(f1 + ' ' + f2 + ' ' + label + '\\n')"
   ]
  },
  {
   "cell_type": "code",
   "execution_count": 31,
   "metadata": {},
   "outputs": [],
   "source": [
    "with open('test_pair.txt', 'w') as f:\n",
    "    f.writelines(datas) "
   ]
  },
  {
   "cell_type": "code",
   "execution_count": 20,
   "metadata": {},
   "outputs": [],
   "source": [
    "import pandas as pd\n",
    "path = 'test_pair.csv'\n",
    "pairs = pd.read_csv(path)"
   ]
  },
  {
   "cell_type": "code",
   "execution_count": 21,
   "metadata": {},
   "outputs": [
    {
     "data": {
      "text/html": [
       "<div>\n",
       "<style scoped>\n",
       "    .dataframe tbody tr th:only-of-type {\n",
       "        vertical-align: middle;\n",
       "    }\n",
       "\n",
       "    .dataframe tbody tr th {\n",
       "        vertical-align: top;\n",
       "    }\n",
       "\n",
       "    .dataframe thead th {\n",
       "        text-align: right;\n",
       "    }\n",
       "</style>\n",
       "<table border=\"1\" class=\"dataframe\">\n",
       "  <thead>\n",
       "    <tr style=\"text-align: right;\">\n",
       "      <th></th>\n",
       "      <th>Unnamed: 0</th>\n",
       "      <th>f1</th>\n",
       "      <th>f2</th>\n",
       "      <th>label</th>\n",
       "    </tr>\n",
       "  </thead>\n",
       "  <tbody>\n",
       "    <tr>\n",
       "      <th>0</th>\n",
       "      <td>0</td>\n",
       "      <td>../../../data/test/closed_set/test_pairs/test_...</td>\n",
       "      <td>../../../data/test/closed_set/test_pairs/test_...</td>\n",
       "      <td>0</td>\n",
       "    </tr>\n",
       "    <tr>\n",
       "      <th>1</th>\n",
       "      <td>1</td>\n",
       "      <td>../../../data/test/closed_set/test_pairs/test_...</td>\n",
       "      <td>../../../data/test/closed_set/test_pairs/test_...</td>\n",
       "      <td>0</td>\n",
       "    </tr>\n",
       "    <tr>\n",
       "      <th>2</th>\n",
       "      <td>2</td>\n",
       "      <td>../../../data/test/closed_set/test_pairs/test_...</td>\n",
       "      <td>../../../data/test/closed_set/test_pairs/test_...</td>\n",
       "      <td>1</td>\n",
       "    </tr>\n",
       "    <tr>\n",
       "      <th>3</th>\n",
       "      <td>3</td>\n",
       "      <td>../../../data/test/closed_set/test_pairs/test_...</td>\n",
       "      <td>../../../data/test/closed_set/test_pairs/test_...</td>\n",
       "      <td>0</td>\n",
       "    </tr>\n",
       "    <tr>\n",
       "      <th>4</th>\n",
       "      <td>4</td>\n",
       "      <td>../../../data/test/closed_set/test_pairs/test_...</td>\n",
       "      <td>../../../data/test/closed_set/test_pairs/test_...</td>\n",
       "      <td>0</td>\n",
       "    </tr>\n",
       "  </tbody>\n",
       "</table>\n",
       "</div>"
      ],
      "text/plain": [
       "   Unnamed: 0                                                 f1  \\\n",
       "0           0  ../../../data/test/closed_set/test_pairs/test_...   \n",
       "1           1  ../../../data/test/closed_set/test_pairs/test_...   \n",
       "2           2  ../../../data/test/closed_set/test_pairs/test_...   \n",
       "3           3  ../../../data/test/closed_set/test_pairs/test_...   \n",
       "4           4  ../../../data/test/closed_set/test_pairs/test_...   \n",
       "\n",
       "                                                  f2  label  \n",
       "0  ../../../data/test/closed_set/test_pairs/test_...      0  \n",
       "1  ../../../data/test/closed_set/test_pairs/test_...      0  \n",
       "2  ../../../data/test/closed_set/test_pairs/test_...      1  \n",
       "3  ../../../data/test/closed_set/test_pairs/test_...      0  \n",
       "4  ../../../data/test/closed_set/test_pairs/test_...      0  "
      ]
     },
     "execution_count": 21,
     "metadata": {},
     "output_type": "execute_result"
    }
   ],
   "source": [
    "pairs.head()"
   ]
  },
  {
   "cell_type": "code",
   "execution_count": null,
   "metadata": {},
   "outputs": [],
   "source": []
  }
 ],
 "metadata": {
  "kernelspec": {
   "display_name": "Python 3",
   "language": "python",
   "name": "python3"
  },
  "language_info": {
   "codemirror_mode": {
    "name": "ipython",
    "version": 3
   },
   "file_extension": ".py",
   "mimetype": "text/x-python",
   "name": "python",
   "nbconvert_exporter": "python",
   "pygments_lexer": "ipython3",
   "version": "3.7.3"
  }
 },
 "nbformat": 4,
 "nbformat_minor": 4
}
